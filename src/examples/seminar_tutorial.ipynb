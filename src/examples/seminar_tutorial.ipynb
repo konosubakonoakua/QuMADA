{
 "cells": [
  {
   "cell_type": "markdown",
   "metadata": {},
   "source": [
    "# Qtools tutorial "
   ]
  },
  {
   "cell_type": "markdown",
   "metadata": {},
   "source": [
    "## Enter Metadata and handle metadata"
   ]
  },
  {
   "cell_type": "markdown",
   "metadata": {},
   "source": [
    "### Situation\n",
    "\n",
    "We got a new device, we want to do a measurement on. These are the steps to enter the metadata\n",
    "\n",
    "1. Add the device to the Metadatabase\n",
    "2. Create metadata for the measurement\n",
    "3. Setup the measurement\n",
    "4. Run the measurement\n",
    "\n",
    "**Remarks:**\n",
    "\n",
    "- Steps 1. and 2. can also be done in one step\n",
    "\n",
    "- During steps 3 and 4, more metadata is gathered with qtools."
   ]
  },
  {
   "cell_type": "markdown",
   "metadata": {},
   "source": [
    "### Add device to Metadatabase\n",
    "\n",
    "Here, we create new metadata for the device, incorporate existing layouts, factories, etc. and save the metadata to the DB.\n",
    "\n",
    "The helper function guides us through the creation of the metadata."
   ]
  },
  {
   "cell_type": "code",
   "execution_count": null,
   "metadata": {},
   "outputs": [],
   "source": [
    "from qtools_metadata.metadata import create_metadata_object\n",
    "from qtools_metadata.device import Device\n",
    "\n",
    "# Pass Device as argument, to create only the device\n",
    "device = create_metadata_object(Device)"
   ]
  },
  {
   "cell_type": "code",
   "execution_count": null,
   "metadata": {},
   "outputs": [],
   "source": [
    "from pprint import pprint\n",
    "pprint(device)"
   ]
  },
  {
   "cell_type": "code",
   "execution_count": null,
   "metadata": {},
   "outputs": [],
   "source": [
    "from qtools_metadata.metadata import save_metadata_object_to_db\n",
    "save_metadata_object_to_db(device)\n",
    "print(device.pid)"
   ]
  },
  {
   "cell_type": "markdown",
   "metadata": {},
   "source": [
    "### Create metadata for the measurement\n",
    "\n",
    "To create a complete Metadata set for a measurement, the same helper function is used."
   ]
  },
  {
   "cell_type": "code",
   "execution_count": null,
   "metadata": {},
   "outputs": [],
   "source": [
    "from qtools_metadata.metadata import Metadata\n",
    "\n",
    "# create_metadata_object() is synonymous\n",
    "metadata = create_metadata_object(Metadata)"
   ]
  },
  {
   "cell_type": "code",
   "execution_count": null,
   "metadata": {},
   "outputs": [],
   "source": [
    "# save metadata to YAML file for future use\n",
    "with open(\"metadata.yaml\", \"w\") as f:\n",
    "    metadata.to_yaml(f)"
   ]
  },
  {
   "cell_type": "markdown",
   "metadata": {},
   "source": [
    "### Setup the measurement"
   ]
  },
  {
   "cell_type": "code",
   "execution_count": null,
   "metadata": {},
   "outputs": [],
   "source": []
  },
  {
   "cell_type": "markdown",
   "metadata": {},
   "source": [
    "### Run the measurement\n",
    "\n",
    "Metadata is saved automatically to the DB."
   ]
  },
  {
   "cell_type": "code",
   "execution_count": null,
   "metadata": {},
   "outputs": [],
   "source": []
  },
  {
   "cell_type": "markdown",
   "metadata": {},
   "source": [
    "### Load metadata from YAML"
   ]
  },
  {
   "cell_type": "code",
   "execution_count": null,
   "metadata": {},
   "outputs": [],
   "source": [
    "from pprint import pprint\n",
    "from qtools_metadata.metadata import Metadata\n",
    "\n",
    "# Load metadata template from YAML file\n",
    "with open(\"metadata.yaml\", \"r\") as f:\n",
    "    metadata: Metadata = Metadata.from_yaml(f)\n",
    "\n",
    "# Change some stuff\n",
    "metadata.measurement.name = \"mynewmeasurement02\"\n",
    "metadata.measurement.comments = \"a second measurement\"\n",
    "\n",
    "# Next measurement..."
   ]
  }
 ],
 "metadata": {
  "kernelspec": {
   "display_name": "Python 3 (ipykernel)",
   "language": "python",
   "name": "python3"
  },
  "language_info": {
   "codemirror_mode": {
    "name": "ipython",
    "version": 3
   },
   "file_extension": ".py",
   "mimetype": "text/x-python",
   "name": "python",
   "nbconvert_exporter": "python",
   "pygments_lexer": "ipython3",
   "version": "3.10.2"
  },
  "vscode": {
   "interpreter": {
    "hash": "3d62f097c6426db79933631857d272b2d378491596086f7638fdd8c163fc898b"
   }
  }
 },
 "nbformat": 4,
 "nbformat_minor": 2
}
